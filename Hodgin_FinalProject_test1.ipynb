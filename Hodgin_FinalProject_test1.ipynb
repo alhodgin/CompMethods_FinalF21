{
 "cells": [
  {
   "cell_type": "markdown",
   "metadata": {},
   "source": [
    "<h1><center>Final Project:</center></h1>\n",
    "<h1><center>Solving a Second Order Ordinary Differential Equation</center></h1>\n",
    "<h2><center>Alisha Hodgin</center></h2>\n",
    "<h4><center>University of Central Oklahoma, Department of Engineering and Physics</center></h4>\n",
    "<h5><center>Computational Methods in Engineering, Fall 2021</center></h5>"
   ]
  },
  {
   "cell_type": "markdown",
   "metadata": {},
   "source": [
    "## Importing Libraries for the Notebook & Defining Runge Kutta Constants"
   ]
  },
  {
   "cell_type": "code",
   "execution_count": 2,
   "metadata": {
    "scrolled": true
   },
   "outputs": [],
   "source": [
    "#IMPORT LIBRARIES\n",
    "%matplotlib inline\n",
    "from math import *\n",
    "import numpy as np\n",
    "import matplotlib.pyplot as plt\n",
    "import matplotlib.gridspec as gridspec\n",
    "\n",
    "#CLASSICAL RK CONSTANTS\n",
    "c1 = 1./6\n",
    "c2 = 2./6\n",
    "c3 = 2./6\n",
    "c4 = 1./6\n",
    "a2 = 1./2\n",
    "a3 = 1./2 \n",
    "a4 = 1\n",
    "b21 = 1./2\n",
    "b31 = 0\n",
    "b32 = 1./2\n",
    "b41 = 0\n",
    "b42 = 0\n",
    "b43 = 1"
   ]
  },
  {
   "cell_type": "markdown",
   "metadata": {},
   "source": [
    "<h1><center>Part I</center></h1>\n",
    "\n",
    "<h5><center> Write python code that uses RK 4th order to solve the ODE above. For the first part of the project, you will assume F(t) is zero. Later you will be using F(t), so plan accordingly.Test your code with all three unforced cases - overdamping, critically damped, and underdamping. You will choose the values of $\\omega_n$ and $\\zeta$. You will need to demonstrate your code works over a range of time-step sizes for all cases. Code and graphics are required. You should calculate and verify that both $x(t)$ and $v(t)$ can reliably be calculated using Runge-Kutta by numerically and graphically comparing the analytical solutions and the calculated values from your RK program.</center></h5>"
   ]
  },
  {
   "cell_type": "markdown",
   "metadata": {},
   "source": [
    "## Overdamped, Homogenous System\n",
    "\n",
    "CONDITIONS: \n",
    "\n",
    "\n",
    "- $\\zeta > \\sqrt{\\zeta^2 - 1}$\n",
    "\n",
    "\n",
    "- $c > c_c$ therefore $\\zeta > 1$\n",
    "\n",
    "\n",
    "- $ \\frac{F(t)}{m} = 0$"
   ]
  },
  {
   "cell_type": "code",
   "execution_count": 13,
   "metadata": {},
   "outputs": [
    {
     "data": {
      "image/png": "[encoded data removed]",
      "text/plain": [
       "<Figure size 432x288 with 1 Axes>"
      ]
     },
     "metadata": {
      "needs_background": "light"
     },
     "output_type": "display_data"
    },
    {
     "data": {
      "image/png": "[encoded data removed]",
      "text/plain": [
       "<Figure size 432x288 with 1 Axes>"
      ]
     },
     "metadata": {
      "needs_background": "light"
     },
     "output_type": "display_data"
    }
   ],
   "source": [
    "###########################################################################################################################\n",
    "#APPROXIMATE SOLUTION\n",
    "###########################################################################################################################\n",
    "#SYSTEM CONSTANTS\n",
    "zeta = 10\n",
    "wn = 1   #in rad/s\n",
    "\n",
    "#LAMBDA FUNCTIONS\n",
    "    #Note:\n",
    "        #t is independent\n",
    "        #x is dependent\n",
    "        #v is dependent\n",
    "###################################\n",
    "Fom = lambda t: 0     #dependent on t only bc F is function of t\n",
    "#fx dependent on v\n",
    "#dx/dt, gives x vs t\n",
    "fx = lambda t,x,v: v\n",
    "\n",
    "#fv dependent on v and x\n",
    "    #only dependent on t because F_over_m is t-dependent\n",
    "#dv/dt, gives v vs t\n",
    "fv = lambda t,x,v: (Fom(t) - (2*zeta*wn*v) - (x*pow(wn,2)))\n",
    "###################################\n",
    "\n",
    "#RUNGE KUTTA FUNCTIONS\n",
    "    #Note:\n",
    "        #need RK function for each ODE\n",
    "        #do not need RK function for F_over_m\n",
    "###################################\n",
    "#x is primary dependent variable, will change\n",
    "#v is also dependent, but will not change for this function\n",
    "def RK4_x(ti,xi,vi,c1, c2, c3, c4, a2, a3, a4, b21, b31, b32, b41, b42, b43,dt):\n",
    "    K1 = fx(ti,xi,vi)\n",
    "    K2 = fx(ti+a2*dt, xi+b21*K1*dt, vi)\n",
    "    K3 = fx(ti+a3*dt, xi+b31*K1*dt+b32*K2*dt, vi)\n",
    "    K4 = fx(ti+a4*dt, xi+b41*K1*dt+b42*K2*dt+b43*K3*dt, vi)\n",
    "    xip1 = xi+(c1*K1 + c2*K2 + c3*K3 + c4*K4)*dt\n",
    "    return xip1\n",
    "\n",
    "#v is primary dependent variable, will change\n",
    "#x is also dependent, but will not change for this function\n",
    "def RK4_v(ti,xi,vi,c1, c2, c3, c4, a2, a3, a4, b21, b31, b32, b41, b42, b43,dt):\n",
    "    K1 = fv(ti,xi,vi)\n",
    "    K2 = fv(ti+a2*dt, xi, vi+b21*K1*dt)\n",
    "    K3 = fv(ti+a3*dt, xi, vi+b31*K1*dt+b32*K2*dt)\n",
    "    K4 = fv(ti+a4*dt, xi, vi+b41*K1*dt+b42*K2*dt+b43*K3*dt)\n",
    "    vip1 = vi+(c1*K1 + c2*K2 + c3*K3 + c4*K4)*dt\n",
    "    return vip1\n",
    "###################################\n",
    "\n",
    "#INITIAL CONDITIONS\n",
    "###################################\n",
    "tiv = 0 #initial time, in s\n",
    "tfv = 40 #final time, in s\n",
    "xiv = 1 #initial position, in m\n",
    "viv = 0 #initial velocity, in m/s\n",
    "n = 100  #number of steps\n",
    "dt = (tfv-tiv)/n #step size, in s\n",
    "\n",
    "#set up arrays for storing values\n",
    "t = np.zeros(n+1)\n",
    "x = np.zeros(n+1)\n",
    "v = np.zeros(n+1)\n",
    "\n",
    "#set initial conditions in the arrays\n",
    "t[0] = tiv\n",
    "x[0] = xiv\n",
    "v[0] = viv\n",
    "###################################\n",
    "\n",
    "#FOR LOOP TO CALCULATE VALUES\n",
    "for i in range(1,n+1):\n",
    "    t[i] = t[i-1]+dt\n",
    "    x[i] = RK4_x(t[i-1],x[i-1],v[i-1],c1, c2, c3, c4, a2, a3, a4, b21, b31, b32, b41, b42, b43,dt)\n",
    "    v[i] = RK4_v(t[i-1],x[i-1],v[i-1],c1, c2, c3, c4, a2, a3, a4, b21, b31, b32, b41, b42, b43,dt)\n",
    "    \n",
    "    \n",
    "###########################################################################################################################\n",
    "#EXACT SOLUTION\n",
    "###########################################################################################################################\n",
    "#FUNCTIONS\n",
    "#x_t and v_t defined for x(0) = 1 and v(0) = 0\n",
    "def x_t(lam1, lam2, t):\n",
    "    diff1 = lam1 - lam2\n",
    "    diff2 = lam2 - lam1\n",
    "    diff3 = lam2 - (2*lam1)\n",
    "    return (diff3/diff2)*exp(lam1*t) + (lam1/diff1)*exp(lam2*t)\n",
    "def v_t(lam1, lam2, t):\n",
    "    diff1 = lam1 - lam2\n",
    "    diff2 = lam2 - lam1\n",
    "    diff3 = lam2 - (2*lam1)\n",
    "    prod1 = lam1*diff3\n",
    "    prod2 = lam2*lam1\n",
    "    return (prod1/diff2)*exp(lam1*t) + (prod2/diff1)*exp(lam2*t)\n",
    "\n",
    "lam1 = -wn*(zeta - wn*sqrt(pow(zeta,2) - 1))\n",
    "lam2 = -wn*(zeta + wn*sqrt(pow(zeta,2) - 1))\n",
    "\n",
    "#INTIAL CONDITIONS\n",
    "#set up arrays for storing values\n",
    "x_TS = np.zeros(n+1)\n",
    "v_TS = np.zeros(n+1)\n",
    "\n",
    "#set initial values\n",
    "x_TS[0] = xiv\n",
    "v_TS[0] = viv\n",
    "\n",
    "for j in range(1,n+1):\n",
    "    x_TS[i] = x_t(lam1,lam2,t[i-1])\n",
    "    v_TS[i] = v_t(lam1,lam2,t[i-1])\n",
    "###########################################################################################################################\n",
    "#GRAPH RESULTS\n",
    "###########################################################################################################################\n",
    "#x vs t\n",
    "plt.plot(t,x,c='blue',linestyle='dashed')\n",
    "plt.plot(t,x_TS,c='red',linestyle='solid')\n",
    "plt.title(\"Displacement vs. Time of Overdamped Homogenous System\")\n",
    "plt.xlabel(\"Time - t (s)\")\n",
    "plt.ylabel(\"Displacement - x (m)\")\n",
    "plt.show()\n",
    "\n",
    "#v vs t \n",
    "plt.plot(t,v,c='blue')\n",
    "plt.plot(t,v_TS,c='red',linestyle='solid')\n",
    "plt.title(\"Velocity vs. Time of Overdamped Homogenous System\")\n",
    "plt.xlabel(\"Time - t (s)\")\n",
    "plt.ylabel(\"Velocity - v (m/s)\")\n",
    "plt.show()"
   ]
  },
  {
   "cell_type": "markdown",
   "metadata": {},
   "source": [
    "## Critically Damped, Homogenous System\n",
    "\n",
    "CONDITIONS: \n",
    "\n",
    "\n",
    "- $\\sqrt{\\zeta^2 - 1} = 0$\n",
    "\n",
    "\n",
    "- $c = c_c$ therefore $\\zeta = 1$\n",
    "\n",
    "\n",
    "- For $x(0) = 0$ and $v(0) = 1$ (in m and m/s respectively)\n",
    "\n",
    "    - $x(t) = te^{-\\omega_nt}$\n",
    "\n",
    "    - $v(t) = -\\omega_nte^{-\\omega_nt}$\n",
    "\n",
    "\n",
    "- $ \\frac{F(t)}{m} = 0$"
   ]
  },
  {
   "cell_type": "code",
   "execution_count": 20,
   "metadata": {
    "scrolled": false
   },
   "outputs": [
    {
     "data": {
      "image/png": "[encoded data removed]",
      "text/plain": [
       "<Figure size 432x288 with 1 Axes>"
      ]
     },
     "metadata": {
      "needs_background": "light"
     },
     "output_type": "display_data"
    },
    {
     "data": {
      "image/png": "[encoded data removed]",
      "text/plain": [
       "<Figure size 432x288 with 1 Axes>"
      ]
     },
     "metadata": {
      "needs_background": "light"
     },
     "output_type": "display_data"
    }
   ],
   "source": [
    "###########################################################################################################################\n",
    "#APPROXIMATE SOLUTION\n",
    "###########################################################################################################################\n",
    "#SYSTEM CONSTANTS\n",
    "zeta = 1\n",
    "wn = 1   #in rad/s\n",
    "\n",
    "#LAMBDA FUNCTIONS\n",
    "    #Note:\n",
    "        #t is independent\n",
    "        #x is dependent\n",
    "        #v is dependent\n",
    "###################################\n",
    "Fom = lambda t: 0     #dependent on t only bc F is function of t\n",
    "#fx dependent on v\n",
    "#dx/dt, gives x vs t\n",
    "fx = lambda t,x,v: v\n",
    "\n",
    "#fv dependent on v and x\n",
    "    #only dependent on t because F_over_m is t-dependent\n",
    "#dv/dt, gives v vs t\n",
    "fv = lambda t,x,v: (Fom(t) - (2*zeta*wn*v) - (x*pow(wn,2)))\n",
    "###################################\n",
    "\n",
    "#RUNGE KUTTA FUNCTIONS\n",
    "    #Note:\n",
    "        #need RK function for each ODE\n",
    "        #do not need RK function for F_over_m\n",
    "###################################\n",
    "#x is primary dependent variable, will change\n",
    "#v is also dependent, but will not change for this function\n",
    "def RK4_x(ti,xi,vi,c1, c2, c3, c4, a2, a3, a4, b21, b31, b32, b41, b42, b43,dt):\n",
    "    K1 = fx(ti,xi,vi)\n",
    "    K2 = fx(ti+a2*dt, xi+b21*K1*dt, vi)\n",
    "    K3 = fx(ti+a3*dt, xi+b31*K1*dt+b32*K2*dt, vi)\n",
    "    K4 = fx(ti+a4*dt, xi+b41*K1*dt+b42*K2*dt+b43*K3*dt, vi)\n",
    "    xip1 = xi+(c1*K1 + c2*K2 + c3*K3 + c4*K4)*dt\n",
    "    return xip1\n",
    "\n",
    "#v is primary dependent variable, will change\n",
    "#x is also dependent, but will not change for this function\n",
    "def RK4_v(ti,xi,vi,c1, c2, c3, c4, a2, a3, a4, b21, b31, b32, b41, b42, b43,dt):\n",
    "    K1 = fv(ti,xi,vi)\n",
    "    K2 = fv(ti+a2*dt, xi, vi+b21*K1*dt)\n",
    "    K3 = fv(ti+a3*dt, xi, vi+b31*K1*dt+b32*K2*dt)\n",
    "    K4 = fv(ti+a4*dt, xi, vi+b41*K1*dt+b42*K2*dt+b43*K3*dt)\n",
    "    vip1 = vi+(c1*K1 + c2*K2 + c3*K3 + c4*K4)*dt\n",
    "    return vip1\n",
    "###################################\n",
    "\n",
    "#INITIAL CONDITIONS\n",
    "###################################\n",
    "tiv = 0 #initial time, in s\n",
    "tfv = 40 #final time, in s\n",
    "xiv = 1 #initial position, in m\n",
    "viv = 0 #initial velocity, in m/s\n",
    "n = 100  #number of steps\n",
    "dt = (tfv-tiv)/n #step size, in s\n",
    "\n",
    "#set up arrays for storing values\n",
    "t = np.zeros(n+1)\n",
    "x = np.zeros(n+1)\n",
    "v = np.zeros(n+1)\n",
    "\n",
    "#set initial conditions in the arrays\n",
    "t[0] = tiv\n",
    "x[0] = xiv\n",
    "v[0] = viv\n",
    "###################################\n",
    "\n",
    "#FOR LOOP TO CALCULATE VALUES\n",
    "for i in range(1,n+1):\n",
    "    t[i] = t[i-1]+dt\n",
    "    x[i] = RK4_x(t[i-1],x[i-1],v[i-1],c1, c2, c3, c4, a2, a3, a4, b21, b31, b32, b41, b42, b43,dt)\n",
    "    v[i] = RK4_v(t[i-1],x[i-1],v[i-1],c1, c2, c3, c4, a2, a3, a4, b21, b31, b32, b41, b42, b43,dt)\n",
    "\n",
    "###########################################################################################################################\n",
    "#GRAPH RESULTS\n",
    "###########################################################################################################################\n",
    "#x vs t\n",
    "plt.plot(t,x,c='red')\n",
    "plt.title(\"Displacement vs. Time of Critically Damped Homogenous System\")\n",
    "plt.xlabel(\"Time - t (s)\")\n",
    "plt.ylabel(\"Displacement - x (m)\")\n",
    "plt.show()\n",
    "\n",
    "#v vs t \n",
    "plt.plot(t,v,c='red')\n",
    "plt.title(\"Velocity vs. Time of Critically Damped Homogenous System\")\n",
    "plt.xlabel(\"Time - t (s)\")\n",
    "plt.ylabel(\"Velocity - v (m/s)\")\n",
    "plt.show()"
   ]
  },
  {
   "cell_type": "markdown",
   "metadata": {},
   "source": [
    "## Underdamped, Homogenous System\n",
    "\n",
    "CONDITIONS: \n",
    "\n",
    "\n",
    "- $\\sqrt{\\zeta^2 - 1} < 1$\n",
    "\n",
    "\n",
    "- $c < c_c$ therefore $\\zeta < 1$\n",
    "\n",
    "\n",
    "- $\\omega_d = \\omega_n\\sqrt{1-\\zeta^2}$ therefore $\\lambda = -\\zeta w_n \\pm i\\omega_d$\n",
    "\n",
    "\n",
    "- For $x(0) = 1$ and $v(0) = 0$ (in m and m/s respectively)\n",
    "\n",
    "    - $x(t) = e^{-\\zeta\\omega_nt}[\\cos{\\omega_dt} + \\zeta\\frac{\\omega_n}{\\omega_d}\\sin{\\omega_dt}]$\n",
    "    - $v(t) = e^{-\\zeta\\omega_nt}[-(\\omega_d\\sin{\\omega_dt} + \\zeta\\omega_n\\cos{\\omega_dt}) + \\zeta\\frac{\\omega_n}{\\omega_d}(\\omega_d\\cos{\\omega_dt} - \\zeta\\omega_n\\sin{\\omega_dt})] $\n",
    "\n",
    "\n",
    "- $ \\frac{F(t)}{m} = 0$"
   ]
  },
  {
   "cell_type": "code",
   "execution_count": 25,
   "metadata": {
    "scrolled": false
   },
   "outputs": [
    {
     "data": {
      "image/png": "[encoded data removed]",
      "text/plain": [
       "<Figure size 432x288 with 1 Axes>"
      ]
     },
     "metadata": {
      "needs_background": "light"
     },
     "output_type": "display_data"
    },
    {
     "data": {
      "image/png": "[encoded data removed]",
      "text/plain": [
       "<Figure size 432x288 with 1 Axes>"
      ]
     },
     "metadata": {
      "needs_background": "light"
     },
     "output_type": "display_data"
    }
   ],
   "source": [
    "###########################################################################################################################\n",
    "#APPROXIMATE SOLUTION\n",
    "###########################################################################################################################\n",
    "\n",
    "#SYSTEM CONSTANTS\n",
    "zeta = 0.1\n",
    "wn = 10   #in rad/s\n",
    "\n",
    "#LAMBDA FUNCTIONS\n",
    "    #Note:\n",
    "        #t is independent\n",
    "        #x is dependent\n",
    "        #v is dependent\n",
    "###################################\n",
    "Fom = lambda t: 0     #dependent on t only bc F is function of t\n",
    "#fx dependent on v\n",
    "#dx/dt, gives x vs t\n",
    "fx = lambda t,x,v: v\n",
    "\n",
    "#fv dependent on v and x\n",
    "    #only dependent on t because F_over_m is t-dependent\n",
    "#dv/dt, gives v vs t\n",
    "fv = lambda t,x,v: (Fom(t) - (2*zeta*wn*v) - (x*pow(wn,2)))\n",
    "###################################\n",
    "\n",
    "#RUNGE KUTTA FUNCTIONS\n",
    "    #Note:\n",
    "        #need RK function for each ODE\n",
    "        #do not need RK function for F_over_m\n",
    "###################################\n",
    "#x is primary dependent variable, will change\n",
    "#v is also dependent, but will not change for this function\n",
    "def RK4_x(ti,xi,vi,c1, c2, c3, c4, a2, a3, a4, b21, b31, b32, b41, b42, b43,dt):\n",
    "    K1 = fx(ti,xi,vi)\n",
    "    K2 = fx(ti+a2*dt, xi+b21*K1*dt, vi)\n",
    "    K3 = fx(ti+a3*dt, xi+b31*K1*dt+b32*K2*dt, vi)\n",
    "    K4 = fx(ti+a4*dt, xi+b41*K1*dt+b42*K2*dt+b43*K3*dt, vi)\n",
    "    xip1 = xi+(c1*K1 + c2*K2 + c3*K3 + c4*K4)*dt\n",
    "    return xip1\n",
    "\n",
    "#v is primary dependent variable, will change\n",
    "#x is also dependent, but will not change for this function\n",
    "def RK4_v(ti,xi,vi,c1, c2, c3, c4, a2, a3, a4, b21, b31, b32, b41, b42, b43,dt):\n",
    "    K1 = fv(ti,xi,vi)\n",
    "    K2 = fv(ti+a2*dt, xi, vi+b21*K1*dt)\n",
    "    K3 = fv(ti+a3*dt, xi, vi+b31*K1*dt+b32*K2*dt)\n",
    "    K4 = fv(ti+a4*dt, xi, vi+b41*K1*dt+b42*K2*dt+b43*K3*dt)\n",
    "    vip1 = vi+(c1*K1 + c2*K2 + c3*K3 + c4*K4)*dt\n",
    "    return vip1\n",
    "###################################\n",
    "\n",
    "#INITIAL CONDITIONS\n",
    "###################################\n",
    "tiv = 0 #initial time, in s\n",
    "tfv = 40 #final time, in s\n",
    "xiv = 1 #initial position, in m\n",
    "viv = 0 #initial velocity, in m/s\n",
    "n = 100  #number of steps\n",
    "dt = (tfv-tiv)/n #step size, in s\n",
    "\n",
    "#set up arrays for storing values\n",
    "t = np.zeros(n+1)\n",
    "x = np.zeros(n+1)\n",
    "v = np.zeros(n+1)\n",
    "\n",
    "#set initial conditions in the arrays\n",
    "t[0] = tiv\n",
    "x[0] = xiv\n",
    "v[0] = viv\n",
    "###################################\n",
    "\n",
    "#FOR LOOP TO CALCULATE VALUES\n",
    "for i in range(1,n+1):\n",
    "    t[i] = t[i-1]+dt\n",
    "    x[i] = RK4_x(t[i-1],x[i-1],v[i-1],c1, c2, c3, c4, a2, a3, a4, b21, b31, b32, b41, b42, b43,dt)\n",
    "    v[i] = RK4_v(t[i-1],x[i-1],v[i-1],c1, c2, c3, c4, a2, a3, a4, b21, b31, b32, b41, b42, b43,dt)\n",
    "\n",
    "###########################################################################################################################\n",
    "#GRAPH RESULTS\n",
    "###########################################################################################################################\n",
    "#x vs t\n",
    "plt.plot(t,x,c='green')\n",
    "plt.title(\"Displacement vs. Time of Underdamped Homogenous System\")\n",
    "plt.xlabel(\"Time - t (s)\")\n",
    "plt.ylabel(\"Displacement - x (m)\")\n",
    "plt.show()\n",
    "\n",
    "#v vs t \n",
    "plt.plot(t,v,c= 'green')\n",
    "plt.title(\"Velocity vs. Time of Underdamped Homogenous System\")\n",
    "plt.xlabel(\"Time - t (s)\")\n",
    "plt.ylabel(\"Velocity - v (m/s)\")\n",
    "plt.show()"
   ]
  }
 ],
 "metadata": {
  "kernelspec": {
   "display_name": "Python 3",
   "language": "python",
   "name": "python3"
  },
  "language_info": {
   "codemirror_mode": {
    "name": "ipython",
    "version": 3
   },
   "file_extension": ".py",
   "mimetype": "text/x-python",
   "name": "python",
   "nbconvert_exporter": "python",
   "pygments_lexer": "ipython3",
   "version": "3.7.4"
  }
 },
 "nbformat": 4,
 "nbformat_minor": 2
}
